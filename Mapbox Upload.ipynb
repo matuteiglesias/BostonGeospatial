{
 "cells": [
  {
   "cell_type": "code",
   "execution_count": 7,
   "metadata": {},
   "outputs": [],
   "source": [
    "import pandas as pd\n",
    "import geopandas as gpd\n",
    "import json\n",
    "\n",
    "import sys\n",
    "sys.path.append(\"./modules/\")\n",
    "\n",
    "from mapbox_tools import df_to_geojson, upload_file\n"
   ]
  },
  {
   "cell_type": "code",
   "execution_count": 8,
   "metadata": {},
   "outputs": [
    {
     "name": "stdout",
     "output_type": "stream",
     "text": [
      "ZIP_Codes\n",
      "Boston_Neighborhoods\n",
      "City_Council_Districts\n",
      "Wards\n",
      "Precincts_2017\n",
      "Polling_Locations_2017\n"
     ]
    }
   ],
   "source": [
    "# import os\n",
    "# files = os.listdir('./geospatial/')\n",
    "\n",
    "files = ['ZIP_Codes.geojson', 'Boston_Neighborhoods.geojson', \n",
    "    'City_Council_Districts.geojson', 'Wards.geojson', \n",
    "     'Precincts_2017.geojson', 'Polling_Locations_2017.geojson']\n",
    "\n",
    "names = [name.split('.')[0] for name in files]\n",
    "\n",
    "for i in range(len(files)):\n",
    "    data = json.load(open('./geospatial/'+files[i]))\n",
    "\n",
    "    try:\n",
    "        print(names[i])\n",
    "        upload_file(data, names[i])\n",
    "    except:\n",
    "        pass"
   ]
  },
  {
   "cell_type": "code",
   "execution_count": null,
   "metadata": {},
   "outputs": [],
   "source": []
  }
 ],
 "metadata": {
  "kernelspec": {
   "display_name": "Python 3",
   "language": "python",
   "name": "python3"
  },
  "language_info": {
   "codemirror_mode": {
    "name": "ipython",
    "version": 3
   },
   "file_extension": ".py",
   "mimetype": "text/x-python",
   "name": "python",
   "nbconvert_exporter": "python",
   "pygments_lexer": "ipython3",
   "version": "3.6.7"
  }
 },
 "nbformat": 4,
 "nbformat_minor": 2
}
